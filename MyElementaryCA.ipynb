{
 "cells": [
  {
   "cell_type": "code",
   "execution_count": 1,
   "id": "06da28fd-3b57-44f1-9ca4-7ad9e43c161a",
   "metadata": {},
   "outputs": [],
   "source": [
    "import numpy as np\n",
    "import matplotlib.pyplot as plt\n",
    "import matplotlib.animation as animation\n",
    "import networkx as nx\n",
    "from matplotlib.animation import FuncAnimation, PillowWriter\n",
    "import os\n",
    "from PIL import Image\n",
    "import glob"
   ]
  },
  {
   "cell_type": "markdown",
   "id": "6b69b53a-71a0-4ef9-86b7-3a8ac8ea9d00",
   "metadata": {},
   "source": [
    "### Elementary cellular automata\n",
    "A basic set of cells consists of 3 adjacent cells. The center cells has two neighbors; one on the left and another one on the right. The most basic set of states these cells could have is 0 and 1. So one set of cell could be 001, 010, 110, 000, etc...\n",
    "\n",
    "The number of possible combinations in a set of cells would be 2^3 = 8. \n",
    "\n",
    "How would the next generation of cells be produced? The state of the next cell is determined by the combination of states of the set of cells before it. Example: 001-> 1 or 0. Since there are 8 possible combinations of states, there are 2^8=256 possible combinations of rules: 2(possible combinations from one set)*2(possible combinations from another set)*etc..\n",
    "\n"
   ]
  },
  {
   "cell_type": "markdown",
   "id": "aea100de-2883-4f92-bbc8-dd178933d413",
   "metadata": {},
   "source": [
    "### Notes on step function\n",
    "\n",
    "***np.roll(array, number of steps)*** cycles a step/s in a row of array. (+1) for positive cycle, (-1) for negative cycle.\n",
    "\n",
    "***np.vstack((array1,array2,...))*** stacks arrays on top of each other. Similar to a concatenation. Stacked arrays must be of shape (N,).\n",
    "\n",
    "***numpy.ndarray.astype(np.int8)*** copies the array and turns the elements to integer.\n",
    "\n",
    "\n",
    "***numpy.sum(array, axis)*** sum of array elements over a given axis.\n",
    "\n",
    "How this function works:\n",
    "1. x_shift_right/left shifts the elements of the array right and left in a cyclic manner. \n",
    "\n",
    "2. The original array and the shifted arrays are stacked on top of each other. \n",
    "\n",
    "3. The elements of the column of the stacked arrays is multiplied to the powers_of_two array and then summed together. \n",
    "    This step converts the combination of cell states into a number between 0 to 7.\n",
    "\n",
    "4. The sum is subtracted to 7. \n",
    "\n",
    "This means that each column would correspond to a number between 0 to 7.\n",
    "\n",
    "Now we have numbers corresponding to each state of the cells. These numbers will dictate the next generation of cells.\n",
    "\n",
    "We need to pass this set of numbers through a 'rule' to get the next generation of cells. There are 256 rules in cellular automata. Each of these rules correspond to a binary representation. E.g 10000000 is rule 1; 10110101 is 181. \n",
    "\n",
    "Now we want each number from 0 to 7 to correspond to an element in the string of binary code. \n",
    "\n",
    "Example: for the code 10000000\n",
    "0 -> 1,\n",
    "\n",
    "1 -> 0,\n",
    "\n",
    "2 -> 0,\n",
    "\n",
    "3 -> 0,\n",
    "\n",
    "4 -> 0,\n",
    "\n",
    "5 -> 0,\n",
    "\n",
    "6 -> 0,\n",
    "\n",
    "7 -> 0\n",
    "\n",
    "\n",
    "How do we implement this?\n",
    "\n",
    "We can use the command numpy.binary_repr(integer, width=integer). It takes an integer number and turns it into binary. The width input forces the function to output the width amount of numbers. If width is specified to be 8 then the integer 0 is written as 00000000 instead of just 0.\n",
    "\n",
    "numpy.binary_repr outputs string value. We just need to convert this string into array in order to have a label for each number in the string.  "
   ]
  },
  {
   "cell_type": "code",
   "execution_count": 2,
   "id": "932c1b67-666f-4093-97e2-4f7b96515392",
   "metadata": {},
   "outputs": [],
   "source": [
    "def step_function(cells,rule_number):\n",
    "    powers_of_two = np.array([[1],[2],[4]])\n",
    "    cell_neighbor_left = np.roll(cells, +1)\n",
    "    cell_neighbor_right = np.roll(cells, -1)\n",
    "    vstacked = np.vstack((cell_neighbor_left,cells,cell_neighbor_right)).astype(np.int8)\n",
    "    z =np.sum(powers_of_two*vstacked,axis=0).astype(np.int8)\n",
    "    \n",
    "    return rule_number[7-z]"
   ]
  },
  {
   "cell_type": "code",
   "execution_count": null,
   "id": "d19293c5-2a89-432e-962b-6d5629c4f7e8",
   "metadata": {},
   "outputs": [],
   "source": []
  },
  {
   "cell_type": "code",
   "execution_count": 3,
   "id": "0b087a5b-1819-4bb5-b2b8-38ca50472c97",
   "metadata": {},
   "outputs": [
    {
     "data": {
      "text/plain": [
       "array([4, 1, 2], dtype=int8)"
      ]
     },
     "execution_count": 3,
     "metadata": {},
     "output_type": "execute_result"
    }
   ],
   "source": [
    "powers_of_two = np.array([[1],[2],[4]])\n",
    "y = np.array([[1,0,1],[1,1,0],[0,1,1]])\n",
    "z = np.sum(powers_of_two*y,axis=0).astype(np.int8)\n",
    "7-z"
   ]
  },
  {
   "cell_type": "code",
   "execution_count": null,
   "id": "06f0c3c2-a9cd-4bcb-92a9-9861152eb007",
   "metadata": {},
   "outputs": [],
   "source": []
  },
  {
   "cell_type": "code",
   "execution_count": 4,
   "id": "3a8f8565-b551-4df7-87c8-761bb754dcd1",
   "metadata": {},
   "outputs": [],
   "source": [
    "def cellular_automata(rule_number, size, step_count):\n",
    "    assert 0<=rule_number<=225\n",
    "    \n",
    "    rule_str = np.binary_repr(rule_number,width=8)\n",
    "    rule = np.array([int(ch) for ch in rule_str], dtype=np.int8)\n",
    "    x = np.zeros((step_count,size),dtype=np.int8)\n",
    "    \n",
    "    x[0,size//2]=1\n",
    "    for i in range(step_count-1):\n",
    "        x[i+1,:]=step_function(x[i,:], rule)\n",
    "    return x\n",
    "        "
   ]
  },
  {
   "cell_type": "code",
   "execution_count": null,
   "id": "85bd3fe9-a7fe-4870-9f9c-aebbd17e462e",
   "metadata": {},
   "outputs": [],
   "source": []
  },
  {
   "cell_type": "code",
   "execution_count": 5,
   "id": "a5f9db0a-db8a-4dfa-b201-6ebf7d160a20",
   "metadata": {},
   "outputs": [],
   "source": [
    "rule_number = 90  # select the update rule\n",
    "size = 100  # number of cells in one row\n",
    "steps = 100  # number of time steps\n",
    "init_cond='impulse'  # start with only one cell\n",
    "impulse_pos='center'  # start with the central cell\n",
    "\n",
    "x = cellular_automata(rule_number, size, steps)\n",
    "\n"
   ]
  },
  {
   "cell_type": "markdown",
   "id": "693a853c-e416-439a-85f1-4c1ee421cffb",
   "metadata": {},
   "source": [
    "### Visualizing Elementary CA\n",
    "plt.figure (figsize = (#height(float),#width(float)), sets dimensions of the figure\n",
    "\n",
    "ax = plt.axes, sets axes to the figure]\n",
    "\n",
    "https://matplotlib.org/stable/api/_as_gen/matplotlib.pyplot.axes.html\n",
    "\n",
    "ax.set_axis_off(), turns off the axis of the figure. i.e no ticks, no marks \n",
    "\n",
    "ax.imshow(#array(this is your image data), #interpolation => none (types of rendering(?), setting to none creates distinct squares, #cmap = colormap)\n",
    "\n",
    "https://matplotlib.org/stable/api/_as_gen/matplotlib.axes.Axes.imshow.html"
   ]
  },
  {
   "cell_type": "code",
   "execution_count": 6,
   "id": "ce5fa542-c80a-423f-b118-8e3ea7b7bec1",
   "metadata": {},
   "outputs": [
    {
     "data": {
      "image/png": "[encoded data removed]",
      "text/plain": [
       "<Figure size 720x720 with 1 Axes>"
      ]
     },
     "metadata": {
      "needs_background": "light"
     },
     "output_type": "display_data"
    }
   ],
   "source": [
    "fig = plt.figure(figsize = (10,10))\n",
    "ax = plt.axes()\n",
    "ax.set_axis_off()\n",
    "\n",
    "ax.imshow(x, interpolation='none', cmap = 'binary')\n",
    "plt.savefig('elementary_cellular_automaton.png', dpi=300, bbox_inches='tight')"
   ]
  },
  {
   "cell_type": "markdown",
   "id": "1078717b-ffb1-434d-a17d-bd8457afff08",
   "metadata": {},
   "source": [
    "### Animating ECA"
   ]
  },
  {
   "cell_type": "code",
   "execution_count": 20,
   "id": "ed10ab7a-713f-4dd3-b127-4317e31b6678",
   "metadata": {},
   "outputs": [],
   "source": [
    "rule_number = 90  # select the update rule\n",
    "size = 100  # number of cells in one row\n",
    "steps = 100  # number of time steps\n",
    "init_cond='impulse'  # start with only one cell\n",
    "impulse_pos='center'  # start with the central cell\n",
    "x_a = cellular_automata(rule_number, size, steps)"
   ]
  },
  {
   "cell_type": "code",
   "execution_count": 21,
   "id": "ac2b9540-d08a-4960-b2ae-937df374cbe0",
   "metadata": {},
   "outputs": [
    {
     "data": {
      "image/png": "[encoded data removed]",
      "text/plain": [
       "<Figure size 720x720 with 1 Axes>"
      ]
     },
     "metadata": {
      "needs_background": "light"
     },
     "output_type": "display_data"
    }
   ],
   "source": [
    "fig = plt.figure(figsize = (10,10))\n",
    "ax = plt.axes()\n",
    "ax.set_axis_off()\n",
    "\n",
    "ax.imshow(x_a, interpolation='none', cmap = 'binary')\n",
    "plt.savefig('elementary_cellular_automaton_long.png', dpi=300, bbox_inches='tight')"
   ]
  },
  {
   "cell_type": "code",
   "execution_count": null,
   "id": "430e5fd3",
   "metadata": {},
   "outputs": [],
   "source": [
    "\n",
    "\n",
    "steps_to_show = 100 #number of steps shown in the animation window\n",
    "iterations_per_frame=1 # number of steps to show per frame\n",
    "steps = 500 # number of time steps\n",
    "frames = int(500//iterations_per_frame) #number of frames in the animation\n",
    "interval = 50 #interval in ms between consecutive frames\n",
    "\n",
    "fig = plt.figure(figsize = (10,10))\n",
    "\n",
    "ax = plt.axes()\n",
    "ax.set_axis_off()\n",
    "\n",
    "def animate(i):\n",
    "    ax.clear() #clear the plot\n",
    "    ax.set_axis_off #disable axis\n",
    "    \n",
    "    Y = np.zeros((steps_to_show, size), dtype = np.int8) #creates a zero matrix of the desired dimensions\n",
    "    upper_boundary = (i+1)*iterations_per_frame # window upper boundary\n",
    "    lower_boundary = 0 if upper_boundary <= steps_to_show else upper_boundary - steps_to_show # window lower bound\n",
    "    for t in range (lower_boundary, upper_boundary): #assign the values\n",
    "        Y[t - lower_boundary, :] = x_a[t,:]\n",
    "    \n",
    "    img = ax.imshow(Y,interpolation='none',cmap='RdPu')\n",
    "    return [img]\n",
    "\n",
    "anim = animation.FuncAnimation(fig, animate, frames=frames, interval=50, blit=True)\n",
    "anim.save('elementary_cellular_automaton.gif', writer='Pillow') \n"
   ]
  },
  {
   "cell_type": "markdown",
   "id": "df9c79f0",
   "metadata": {},
   "source": [
    "### Animating ECA\n",
    "FuncAnimation is a hassle to work with. It also demands large memory since it has to run in the background all the time. An alternative way of animating is by creating .png's of each step and compiling them all into a single .gif using glob. This will take a longer time than FuncAnimation but the process is more intuitive in my opinion.  \n",
    "\n",
    "We first create the cells that we want to show for the entirety of the animation. We are using rule number 90. We have 50 cells in one row and we want to show 120 steps of its evolution starting from a single dot at the center. Each fram of the animation will show one step of the evolution. \n",
    "\n",
    "x_test is the array that contains the entire evolution.\n",
    "\n",
    "\n",
    "In our animation, we will only be able to see a fixed number of steps i.e we will only show 10 out of the 120 rows at any given time. This means that we have to make a separate array from x_test. An array that contains the cells that we will see on our .png's.\n",
    "\n",
    "We will assign Y_test to be this array. \n",
    "\n",
    "\n",
    "\n",
    "We create a for loop for the number of steps we want to show in the entire duration. This is where the variable duration comes in. Each Y_test row is equated to the corresponding x_test row. \n",
    "\n",
    "\n",
    "This works fine until i=10 wherein the iterator reaches the bottom of the Y_test array. The program won't show any more steps. \n",
    "\n",
    "We can work around this by making the bounds of the Y_test array move. The upper and lower bounds of the array moves with the iterator when i becomes greater than 10. It's like a Y_test is a view finder spanning across the entire length of x_test. \n",
    "\n"
   ]
  },
  {
   "cell_type": "code",
   "execution_count": 130,
   "id": "317a71d6-a39e-4246-9712-e9036a42405f",
   "metadata": {},
   "outputs": [],
   "source": [
    "rule_number = 90  # select the update rule\n",
    "size = 50  # number of cells in one row\n",
    "steps = 120 # number of time steps\n",
    "init_cond='impulse'  # start with only one cell\n",
    "impulse_pos='center'  # start with the central cell\n",
    "\n",
    "x_test = cellular_automata(rule_number, size, steps)\n",
    "\n",
    "\n",
    "duration = 100\n",
    "\n",
    "steps_to_show = 10    "
   ]
  },
  {
   "cell_type": "code",
   "execution_count": 131,
   "id": "128b8554-8d10-4c0d-94b8-1652fff99cdb",
   "metadata": {},
   "outputs": [
    {
     "data": {
      "image/png": "[encoded data removed]",
      "text/plain": [
       "<Figure size 720x3600 with 1 Axes>"
      ]
     },
     "metadata": {
      "needs_background": "light"
     },
     "output_type": "display_data"
    }
   ],
   "source": [
    "fig = plt.figure(figsize = (10,50))\n",
    "ax = plt.axes()\n",
    "ax.set_axis_off()\n",
    "path_to_save = '/Users/xydagapito/Downloads/ElementaryCA/'\n",
    "for i in range(duration):\n",
    "    upper_bound = (i+1)\n",
    "    lower_bound = 0 if upper_bound <= steps_to_show else upper_bound-steps_to_show\n",
    "    Y_test =np.zeros((steps_to_show,size),dtype=np.int8)\n",
    "    for t in range (lower_bound, upper_bound):\n",
    "        Y_test[t-lower_bound,:] = x_test[t,:]\n",
    "        \n",
    "    \n",
    "    \n",
    "    ax.imshow(Y_test, interpolation='none', cmap = 'binary')\n",
    "    plt.savefig(path_to_save+str(i)+'.png', dpi=300, bbox_inches='tight')\n",
    "    \n"
   ]
  },
  {
   "cell_type": "code",
   "execution_count": 104,
   "id": "6b83738a",
   "metadata": {},
   "outputs": [],
   "source": [
    "fp_in = path_to_save+'/*.png'\n",
    "fp_out = '%sCA_Evolution.gif'%(path_to_save)\n"
   ]
  },
  {
   "cell_type": "code",
   "execution_count": 77,
   "id": "8af91d2a",
   "metadata": {},
   "outputs": [
    {
     "data": {
      "text/plain": [
       "'3'"
      ]
     },
     "execution_count": 77,
     "metadata": {},
     "output_type": "execute_result"
    }
   ],
   "source": [
    "x = 1\n",
    "for i in range(4):\n",
    "    x =str(i)\n",
    "x"
   ]
  },
  {
   "cell_type": "code",
   "execution_count": 78,
   "id": "3270dab7",
   "metadata": {},
   "outputs": [
    {
     "data": {
      "text/plain": [
       "'/Users/xydagapito/Downloads/ElementaryCA/CA_Evolution.gif'"
      ]
     },
     "execution_count": 78,
     "metadata": {},
     "output_type": "execute_result"
    }
   ],
   "source": [
    "fp_out"
   ]
  },
  {
   "cell_type": "code",
   "execution_count": 132,
   "id": "17bf57d6",
   "metadata": {},
   "outputs": [],
   "source": [
    "img, *imgs = [Image.open(f) for f in sorted(glob.glob(fp_in), key=os.path.getmtime)]\n",
    "img.save(fp=fp_out, format='GIF', append_images=imgs, save_all=True, duration=100, loop=0)"
   ]
  },
  {
   "cell_type": "code",
   "execution_count": 22,
   "id": "4d30ce31",
   "metadata": {},
   "outputs": [
    {
     "data": {
      "image/png": "[encoded data removed]",
      "text/plain": [
       "<Figure size 720x720 with 1 Axes>"
      ]
     },
     "metadata": {
      "needs_background": "light"
     },
     "output_type": "display_data"
    }
   ],
   "source": [
    "rule_number = 90  # select the update rule\n",
    "size = 100  # number of cells in one row\n",
    "steps = 100  # number of time steps\n",
    "init_cond='impulse'  # start with only one cell\n",
    "impulse_pos='center'  # start with the central cell\n",
    "x_b = cellular_automata(rule_number, size, steps)\n",
    "\n",
    "fig = plt.figure(figsize = (10,10))\n",
    "ax = plt.axes()\n",
    "ax.set_axis_off()\n",
    "\n",
    "ax.imshow(x_b, interpolation='none', cmap = 'binary')\n",
    "plt.savefig('elementary_cellular_automaton_test.png', dpi=300, bbox_inches='tight')"
   ]
  },
  {
   "cell_type": "code",
   "execution_count": 72,
   "id": "8a248fd2",
   "metadata": {},
   "outputs": [
    {
     "data": {
      "image/png": "[encoded data removed]",
      "text/plain": [
       "<Figure size 720x720 with 1 Axes>"
      ]
     },
     "metadata": {
      "needs_background": "light"
     },
     "output_type": "display_data"
    }
   ],
   "source": [
    "steps_to_show = 30\n",
    "steps_in_y =15\n",
    "Y_testb =np.zeros((steps_to_show,size),dtype=np.int8)\n",
    "\n",
    "for i in range(steps_to_show):\n",
    "    Y_testb[i,:]=x_b[i,:]\n",
    "\n",
    "\n",
    "fig = plt.figure(figsize = (10,10))\n",
    "ax = plt.axes()\n",
    "ax.set_axis_off()\n",
    "\n",
    "ax.imshow(Y_testb, interpolation='none', cmap = 'binary')\n",
    "plt.savefig('elementary_cellular_automaton_test.png', dpi=300, bbox_inches='tight')"
   ]
  },
  {
   "cell_type": "code",
   "execution_count": 108,
   "id": "a67b02d8",
   "metadata": {},
   "outputs": [
    {
     "name": "stdout",
     "output_type": "stream",
     "text": [
      "4\n",
      "5\n",
      "6\n",
      "7\n"
     ]
    }
   ],
   "source": [
    "for i in range(4,8):\n",
    "    print(i)"
   ]
  },
  {
   "cell_type": "code",
   "execution_count": null,
   "id": "09320050",
   "metadata": {},
   "outputs": [],
   "source": []
  }
 ],
 "metadata": {
  "kernelspec": {
   "display_name": "Python 3 (ipykernel)",
   "language": "python",
   "name": "python3"
  },
  "language_info": {
   "codemirror_mode": {
    "name": "ipython",
    "version": 3
   },
   "file_extension": ".py",
   "mimetype": "text/x-python",
   "name": "python",
   "nbconvert_exporter": "python",
   "pygments_lexer": "ipython3",
   "version": "3.9.7"
  }
 },
 "nbformat": 4,
 "nbformat_minor": 5
}
